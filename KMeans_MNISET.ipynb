{
  "nbformat": 4,
  "nbformat_minor": 0,
  "metadata": {
    "colab": {
      "name": "KMeans-MNISET.ipynb",
      "version": "0.3.2",
      "provenance": [],
      "collapsed_sections": []
    },
    "kernelspec": {
      "name": "python3",
      "display_name": "Python 3"
    }
  },
  "cells": [
    {
      "metadata": {
        "id": "P1SVCwkFd7sG",
        "colab_type": "code",
        "colab": {
          "base_uri": "https://localhost:8080/",
          "height": 425
        },
        "outputId": "cfed4854-a141-4259-b808-812a3190ac88"
      },
      "cell_type": "code",
      "source": [
        "get_ipython().system(\"wget 'http://yann.lecun.com/exdb/mnist/train-images-idx3-ubyte.gz'\")\n",
        "get_ipython().system(\"wget 'http://yann.lecun.com/exdb/mnist/train-labels-idx1-ubyte.gz'\")\n",
        "get_ipython().system('gunzip train-images-idx3-ubyte.gz')\n",
        "get_ipython().system('gunzip train-labels-idx1-ubyte.gz')\n",
        "\n"
      ],
      "execution_count": 1,
      "outputs": [
        {
          "output_type": "stream",
          "text": [
            "--2018-12-24 18:37:27--  http://yann.lecun.com/exdb/mnist/train-images-idx3-ubyte.gz\n",
            "Resolving yann.lecun.com (yann.lecun.com)... 216.165.22.6\n",
            "Connecting to yann.lecun.com (yann.lecun.com)|216.165.22.6|:80... connected.\n",
            "HTTP request sent, awaiting response... 200 OK\n",
            "Length: 9912422 (9.5M) [application/x-gzip]\n",
            "Saving to: ‘train-images-idx3-ubyte.gz’\n",
            "\n",
            "\r          train-ima   0%[                    ]       0  --.-KB/s               \r         train-imag   1%[                    ] 101.22K   381KB/s               \r        train-image   7%[>                   ] 743.81K  1.46MB/s               \r       train-images  60%[===========>        ]   5.68M  7.82MB/s               \rtrain-images-idx3-u 100%[===================>]   9.45M  11.6MB/s    in 0.8s    \n",
            "\n",
            "2018-12-24 18:37:28 (11.6 MB/s) - ‘train-images-idx3-ubyte.gz’ saved [9912422/9912422]\n",
            "\n",
            "--2018-12-24 18:37:31--  http://yann.lecun.com/exdb/mnist/train-labels-idx1-ubyte.gz\n",
            "Resolving yann.lecun.com (yann.lecun.com)... 216.165.22.6\n",
            "Connecting to yann.lecun.com (yann.lecun.com)|216.165.22.6|:80... connected.\n",
            "HTTP request sent, awaiting response... 200 OK\n",
            "Length: 28881 (28K) [application/x-gzip]\n",
            "Saving to: ‘train-labels-idx1-ubyte.gz’\n",
            "\n",
            "train-labels-idx1-u 100%[===================>]  28.20K  --.-KB/s    in 0.08s   \n",
            "\n",
            "2018-12-24 18:37:31 (350 KB/s) - ‘train-labels-idx1-ubyte.gz’ saved [28881/28881]\n",
            "\n",
            "gzip: train-images-idx3-ubyte already exists; do you wish to overwrite (y or n)? y\n",
            "gzip: train-labels-idx1-ubyte already exists; do you wish to overwrite (y or n)? y\n"
          ],
          "name": "stdout"
        }
      ]
    },
    {
      "metadata": {
        "id": "FRJX03zsf7c3",
        "colab_type": "code",
        "colab": {
          "base_uri": "https://localhost:8080/",
          "height": 119
        },
        "outputId": "ba28713f-6005-46a7-b765-4174b856437e"
      },
      "cell_type": "code",
      "source": [
        "get_ipython().system('git clone https://github.com/kareemhossam/KMeans-MNIST.git')"
      ],
      "execution_count": 4,
      "outputs": [
        {
          "output_type": "stream",
          "text": [
            "Cloning into 'KMeans-MNISET'...\n",
            "remote: Enumerating objects: 7, done.\u001b[K\n",
            "remote: Counting objects:  14% (1/7)   \u001b[K\rremote: Counting objects:  28% (2/7)   \u001b[K\rremote: Counting objects:  42% (3/7)   \u001b[K\rremote: Counting objects:  57% (4/7)   \u001b[K\rremote: Counting objects:  71% (5/7)   \u001b[K\rremote: Counting objects:  85% (6/7)   \u001b[K\rremote: Counting objects: 100% (7/7)   \u001b[K\rremote: Counting objects: 100% (7/7), done.\u001b[K\n",
            "remote: Compressing objects:  16% (1/6)   \u001b[K\rremote: Compressing objects:  33% (2/6)   \u001b[K\rremote: Compressing objects:  50% (3/6)   \u001b[K\rremote: Compressing objects:  66% (4/6)   \u001b[K\rremote: Compressing objects:  83% (5/6)   \u001b[K\rremote: Compressing objects: 100% (6/6)   \u001b[K\rremote: Compressing objects: 100% (6/6), done.\u001b[K\n",
            "remote: Total 7 (delta 0), reused 4 (delta 0), pack-reused 0\u001b[K\n",
            "Unpacking objects:  14% (1/7)   \rUnpacking objects:  28% (2/7)   \rUnpacking objects:  42% (3/7)   \rUnpacking objects:  57% (4/7)   \rUnpacking objects:  71% (5/7)   \rUnpacking objects:  85% (6/7)   \rUnpacking objects: 100% (7/7)   \rUnpacking objects: 100% (7/7), done.\n"
          ],
          "name": "stdout"
        }
      ]
    },
    {
      "metadata": {
        "id": "oMs7QLR-f78v",
        "colab_type": "code",
        "colab": {}
      },
      "cell_type": "code",
      "source": [
        "import os\n",
        "os.chdir('KMeans-MNIST')\n",
        "from DataReader import DataReader\n",
        "from KMeans import KMeans\n",
        "import matplotlib.pyplot as plt\n",
        "import numpy as np"
      ],
      "execution_count": 0,
      "outputs": []
    },
    {
      "metadata": {
        "id": "TADge32ugCcm",
        "colab_type": "code",
        "colab": {
          "base_uri": "https://localhost:8080/",
          "height": 323
        },
        "outputId": "0bb6b2a0-cc08-4da7-d525-d7485221b060"
      },
      "cell_type": "code",
      "source": [
        "data_reader = DataReader('../')\n",
        "tr_data, tr_class_labels, tr_subclass_labels = data_reader.get_train_data()\n",
        "data_reader.plot_imgs(tr_data,25,True)"
      ],
      "execution_count": 11,
      "outputs": [
        {
          "output_type": "display_data",
          "data": {
            "image/png": "[encoded data removed]",
            "text/plain": [
              "<matplotlib.figure.Figure at 0x7f8f8aedca90>"
            ]
          },
          "metadata": {
            "tags": []
          }
        }
      ]
    },
    {
      "metadata": {
        "id": "okOoDV-5gJ25",
        "colab_type": "code",
        "colab": {
          "base_uri": "https://localhost:8080/",
          "height": 5698
        },
        "outputId": "667e60f3-e55f-4de9-96e1-289b7c0d952f"
      },
      "cell_type": "code",
      "source": [
        "kmeans = KMeans(n_clusters=10,max_iter=200)\n",
        "kmeans.fit(tr_data,tr_class_labels)"
      ],
      "execution_count": 12,
      "outputs": [
        {
          "output_type": "stream",
          "text": [
            "60000it [00:05, 10775.53it/s]\n",
            "1126it [00:00, 11256.71it/s]"
          ],
          "name": "stderr"
        },
        {
          "output_type": "stream",
          "text": [
            "\n",
            "Iteration: 0 Loss: 100895468.14881103 Difference: 20377.371542964025\n"
          ],
          "name": "stdout"
        },
        {
          "output_type": "stream",
          "text": [
            "60000it [00:05, 11139.68it/s]\n",
            "1061it [00:00, 10607.96it/s]"
          ],
          "name": "stderr"
        },
        {
          "output_type": "stream",
          "text": [
            "\n",
            "Iteration: 1 Loss: 98393293.66396193 Difference: 4266.125193571924\n"
          ],
          "name": "stdout"
        },
        {
          "output_type": "stream",
          "text": [
            "60000it [00:05, 11096.87it/s]\n",
            "1120it [00:00, 11197.13it/s]"
          ],
          "name": "stderr"
        },
        {
          "output_type": "stream",
          "text": [
            "\n",
            "Iteration: 2 Loss: 96868890.10438022 Difference: 875.8679476610536\n"
          ],
          "name": "stdout"
        },
        {
          "output_type": "stream",
          "text": [
            "60000it [00:05, 11086.57it/s]\n",
            "1120it [00:00, 11192.75it/s]"
          ],
          "name": "stderr"
        },
        {
          "output_type": "stream",
          "text": [
            "\n",
            "Iteration: 3 Loss: 96034564.15585133 Difference: 652.6950006011723\n"
          ],
          "name": "stdout"
        },
        {
          "output_type": "stream",
          "text": [
            "60000it [00:05, 11109.54it/s]\n",
            "1106it [00:00, 11053.37it/s]"
          ],
          "name": "stderr"
        },
        {
          "output_type": "stream",
          "text": [
            "\n",
            "Iteration: 4 Loss: 95734330.22554125 Difference: 413.82160732312\n"
          ],
          "name": "stdout"
        },
        {
          "output_type": "stream",
          "text": [
            "60000it [00:05, 11137.86it/s]\n",
            "1130it [00:00, 11292.42it/s]"
          ],
          "name": "stderr"
        },
        {
          "output_type": "stream",
          "text": [
            "\n",
            "Iteration: 5 Loss: 95579306.6035467 Difference: 251.56722263140304\n"
          ],
          "name": "stdout"
        },
        {
          "output_type": "stream",
          "text": [
            "60000it [00:05, 11113.39it/s]\n",
            "1124it [00:00, 11233.69it/s]"
          ],
          "name": "stderr"
        },
        {
          "output_type": "stream",
          "text": [
            "\n",
            "Iteration: 6 Loss: 95470922.35717613 Difference: 188.9327638981504\n"
          ],
          "name": "stdout"
        },
        {
          "output_type": "stream",
          "text": [
            "60000it [00:05, 11089.27it/s]\n",
            "1106it [00:00, 11051.34it/s]"
          ],
          "name": "stderr"
        },
        {
          "output_type": "stream",
          "text": [
            "\n",
            "Iteration: 7 Loss: 95393923.4530257 Difference: 150.52003623058633\n"
          ],
          "name": "stdout"
        },
        {
          "output_type": "stream",
          "text": [
            "60000it [00:05, 11062.86it/s]\n",
            "1110it [00:00, 11099.53it/s]"
          ],
          "name": "stderr"
        },
        {
          "output_type": "stream",
          "text": [
            "\n",
            "Iteration: 8 Loss: 95329464.21183538 Difference: 125.7361675088592\n"
          ],
          "name": "stdout"
        },
        {
          "output_type": "stream",
          "text": [
            "60000it [00:05, 11109.68it/s]\n",
            "1104it [00:00, 11031.62it/s]"
          ],
          "name": "stderr"
        },
        {
          "output_type": "stream",
          "text": [
            "\n",
            "Iteration: 9 Loss: 95275350.23300356 Difference: 117.13175255235643\n"
          ],
          "name": "stdout"
        },
        {
          "output_type": "stream",
          "text": [
            "60000it [00:05, 10992.01it/s]\n",
            "1116it [00:00, 11159.66it/s]"
          ],
          "name": "stderr"
        },
        {
          "output_type": "stream",
          "text": [
            "\n",
            "Iteration: 10 Loss: 95233297.05013949 Difference: 102.0568876164703\n"
          ],
          "name": "stdout"
        },
        {
          "output_type": "stream",
          "text": [
            "60000it [00:05, 11016.74it/s]\n",
            "1113it [00:00, 11129.82it/s]"
          ],
          "name": "stderr"
        },
        {
          "output_type": "stream",
          "text": [
            "\n",
            "Iteration: 11 Loss: 95199806.46316603 Difference: 90.85680839845968\n"
          ],
          "name": "stdout"
        },
        {
          "output_type": "stream",
          "text": [
            "60000it [00:05, 11065.46it/s]\n",
            "1119it [00:00, 11187.96it/s]"
          ],
          "name": "stderr"
        },
        {
          "output_type": "stream",
          "text": [
            "\n",
            "Iteration: 12 Loss: 95173832.4035671 Difference: 85.04019851389225\n"
          ],
          "name": "stdout"
        },
        {
          "output_type": "stream",
          "text": [
            "60000it [00:05, 11062.46it/s]\n",
            "1114it [00:00, 11138.23it/s]"
          ],
          "name": "stderr"
        },
        {
          "output_type": "stream",
          "text": [
            "\n",
            "Iteration: 13 Loss: 95152992.08726819 Difference: 77.7584052134823\n"
          ],
          "name": "stdout"
        },
        {
          "output_type": "stream",
          "text": [
            "60000it [00:05, 11047.78it/s]\n",
            "1112it [00:00, 11117.15it/s]"
          ],
          "name": "stderr"
        },
        {
          "output_type": "stream",
          "text": [
            "\n",
            "Iteration: 14 Loss: 95135411.51884809 Difference: 73.15942584020215\n"
          ],
          "name": "stdout"
        },
        {
          "output_type": "stream",
          "text": [
            "60000it [00:05, 11015.41it/s]\n",
            "1112it [00:00, 11114.95it/s]"
          ],
          "name": "stderr"
        },
        {
          "output_type": "stream",
          "text": [
            "\n",
            "Iteration: 15 Loss: 95117721.57606477 Difference: 67.23645534031554\n"
          ],
          "name": "stdout"
        },
        {
          "output_type": "stream",
          "text": [
            "60000it [00:05, 11036.90it/s]\n",
            "1116it [00:00, 11155.62it/s]"
          ],
          "name": "stderr"
        },
        {
          "output_type": "stream",
          "text": [
            "\n",
            "Iteration: 16 Loss: 95098466.74967153 Difference: 72.01439630602397\n"
          ],
          "name": "stdout"
        },
        {
          "output_type": "stream",
          "text": [
            "60000it [00:05, 11034.67it/s]\n",
            "1114it [00:00, 11137.54it/s]"
          ],
          "name": "stderr"
        },
        {
          "output_type": "stream",
          "text": [
            "\n",
            "Iteration: 17 Loss: 95076062.1912456 Difference: 76.83798949666958\n"
          ],
          "name": "stdout"
        },
        {
          "output_type": "stream",
          "text": [
            "60000it [00:05, 11077.57it/s]\n",
            "1121it [00:00, 11205.87it/s]"
          ],
          "name": "stderr"
        },
        {
          "output_type": "stream",
          "text": [
            "\n",
            "Iteration: 18 Loss: 95051398.43559964 Difference: 82.63631017702426\n"
          ],
          "name": "stdout"
        },
        {
          "output_type": "stream",
          "text": [
            "60000it [00:05, 11104.21it/s]\n",
            "1101it [00:00, 11001.12it/s]"
          ],
          "name": "stderr"
        },
        {
          "output_type": "stream",
          "text": [
            "\n",
            "Iteration: 19 Loss: 95026319.23549518 Difference: 84.86880071822367\n"
          ],
          "name": "stdout"
        },
        {
          "output_type": "stream",
          "text": [
            "60000it [00:05, 10986.97it/s]\n",
            "1070it [00:00, 10696.72it/s]"
          ],
          "name": "stderr"
        },
        {
          "output_type": "stream",
          "text": [
            "\n",
            "Iteration: 20 Loss: 94998812.81879628 Difference: 84.56102696339411\n"
          ],
          "name": "stdout"
        },
        {
          "output_type": "stream",
          "text": [
            "60000it [00:05, 11027.09it/s]\n",
            "1090it [00:00, 10899.26it/s]"
          ],
          "name": "stderr"
        },
        {
          "output_type": "stream",
          "text": [
            "\n",
            "Iteration: 21 Loss: 94968671.054553 Difference: 87.22551845634723\n"
          ],
          "name": "stdout"
        },
        {
          "output_type": "stream",
          "text": [
            "60000it [00:05, 11007.57it/s]\n",
            "1106it [00:00, 11051.82it/s]"
          ],
          "name": "stderr"
        },
        {
          "output_type": "stream",
          "text": [
            "\n",
            "Iteration: 22 Loss: 94931794.40406477 Difference: 90.94449089953666\n"
          ],
          "name": "stdout"
        },
        {
          "output_type": "stream",
          "text": [
            "60000it [00:05, 11009.72it/s]\n",
            "1074it [00:00, 10737.32it/s]"
          ],
          "name": "stderr"
        },
        {
          "output_type": "stream",
          "text": [
            "\n",
            "Iteration: 23 Loss: 94885890.05082214 Difference: 95.0919231436951\n"
          ],
          "name": "stdout"
        },
        {
          "output_type": "stream",
          "text": [
            "60000it [00:05, 11089.67it/s]\n",
            "1119it [00:00, 11188.52it/s]"
          ],
          "name": "stderr"
        },
        {
          "output_type": "stream",
          "text": [
            "\n",
            "Iteration: 24 Loss: 94832078.90689498 Difference: 102.30489167734176\n"
          ],
          "name": "stdout"
        },
        {
          "output_type": "stream",
          "text": [
            "60000it [00:05, 11023.15it/s]\n",
            "1119it [00:00, 11185.88it/s]"
          ],
          "name": "stderr"
        },
        {
          "output_type": "stream",
          "text": [
            "\n",
            "Iteration: 25 Loss: 94771460.85972841 Difference: 107.13805610384156\n"
          ],
          "name": "stdout"
        },
        {
          "output_type": "stream",
          "text": [
            "60000it [00:05, 11072.74it/s]\n",
            "1113it [00:00, 11127.49it/s]"
          ],
          "name": "stderr"
        },
        {
          "output_type": "stream",
          "text": [
            "\n",
            "Iteration: 26 Loss: 94701599.68896478 Difference: 110.8458427863755\n"
          ],
          "name": "stdout"
        },
        {
          "output_type": "stream",
          "text": [
            "60000it [00:05, 11116.78it/s]\n",
            "1111it [00:00, 11108.13it/s]"
          ],
          "name": "stderr"
        },
        {
          "output_type": "stream",
          "text": [
            "\n",
            "Iteration: 27 Loss: 94627562.77371547 Difference: 115.7710046306704\n"
          ],
          "name": "stdout"
        },
        {
          "output_type": "stream",
          "text": [
            "60000it [00:05, 11030.69it/s]\n",
            "1105it [00:00, 11042.09it/s]"
          ],
          "name": "stderr"
        },
        {
          "output_type": "stream",
          "text": [
            "\n",
            "Iteration: 28 Loss: 94554109.93762451 Difference: 114.97862153508099\n"
          ],
          "name": "stdout"
        },
        {
          "output_type": "stream",
          "text": [
            "60000it [00:05, 10987.36it/s]\n",
            "1114it [00:00, 11136.72it/s]"
          ],
          "name": "stderr"
        },
        {
          "output_type": "stream",
          "text": [
            "\n",
            "Iteration: 29 Loss: 94489412.62631817 Difference: 110.54351656245521\n"
          ],
          "name": "stdout"
        },
        {
          "output_type": "stream",
          "text": [
            "60000it [00:05, 10964.06it/s]\n",
            "1085it [00:00, 10846.03it/s]"
          ],
          "name": "stderr"
        },
        {
          "output_type": "stream",
          "text": [
            "\n",
            "Iteration: 30 Loss: 94434118.99848682 Difference: 98.81512630661534\n"
          ],
          "name": "stdout"
        },
        {
          "output_type": "stream",
          "text": [
            "60000it [00:05, 10563.49it/s]\n",
            "1109it [00:00, 11083.80it/s]"
          ],
          "name": "stderr"
        },
        {
          "output_type": "stream",
          "text": [
            "\n",
            "Iteration: 31 Loss: 94388520.83657871 Difference: 88.53583597769702\n"
          ],
          "name": "stdout"
        },
        {
          "output_type": "stream",
          "text": [
            "60000it [00:05, 10970.23it/s]\n",
            "1100it [00:00, 10997.70it/s]"
          ],
          "name": "stderr"
        },
        {
          "output_type": "stream",
          "text": [
            "\n",
            "Iteration: 32 Loss: 94355310.48319194 Difference: 77.2440677023916\n"
          ],
          "name": "stdout"
        },
        {
          "output_type": "stream",
          "text": [
            "60000it [00:05, 10981.04it/s]\n",
            "1115it [00:00, 11139.89it/s]"
          ],
          "name": "stderr"
        },
        {
          "output_type": "stream",
          "text": [
            "\n",
            "Iteration: 33 Loss: 94332291.26958978 Difference: 62.22495016497599\n"
          ],
          "name": "stdout"
        },
        {
          "output_type": "stream",
          "text": [
            "60000it [00:05, 11084.04it/s]\n",
            "1090it [00:00, 10892.19it/s]"
          ],
          "name": "stderr"
        },
        {
          "output_type": "stream",
          "text": [
            "\n",
            "Iteration: 34 Loss: 94314380.4024267 Difference: 49.85843036201993\n"
          ],
          "name": "stdout"
        },
        {
          "output_type": "stream",
          "text": [
            "60000it [00:05, 11046.92it/s]\n",
            "1113it [00:00, 11120.97it/s]"
          ],
          "name": "stderr"
        },
        {
          "output_type": "stream",
          "text": [
            "\n",
            "Iteration: 35 Loss: 94302008.0028482 Difference: 43.44814419087408\n"
          ],
          "name": "stdout"
        },
        {
          "output_type": "stream",
          "text": [
            "60000it [00:05, 11038.64it/s]\n",
            "1124it [00:00, 11231.87it/s]"
          ],
          "name": "stderr"
        },
        {
          "output_type": "stream",
          "text": [
            "\n",
            "Iteration: 36 Loss: 94295225.81055062 Difference: 33.7678953069914\n"
          ],
          "name": "stdout"
        },
        {
          "output_type": "stream",
          "text": [
            "60000it [00:05, 11029.82it/s]\n",
            "1096it [00:00, 10955.83it/s]"
          ],
          "name": "stderr"
        },
        {
          "output_type": "stream",
          "text": [
            "\n",
            "Iteration: 37 Loss: 94289866.84688593 Difference: 23.399319375899086\n"
          ],
          "name": "stdout"
        },
        {
          "output_type": "stream",
          "text": [
            "60000it [00:05, 11089.31it/s]\n",
            "1113it [00:00, 11122.69it/s]"
          ],
          "name": "stderr"
        },
        {
          "output_type": "stream",
          "text": [
            "\n",
            "Iteration: 38 Loss: 94286544.52640693 Difference: 21.058564732952927\n"
          ],
          "name": "stdout"
        },
        {
          "output_type": "stream",
          "text": [
            "60000it [00:05, 11039.34it/s]\n",
            "1115it [00:00, 11140.98it/s]"
          ],
          "name": "stderr"
        },
        {
          "output_type": "stream",
          "text": [
            "\n",
            "Iteration: 39 Loss: 94284238.48622726 Difference: 15.920217392425275\n"
          ],
          "name": "stdout"
        },
        {
          "output_type": "stream",
          "text": [
            "60000it [00:05, 11029.27it/s]\n",
            "1096it [00:00, 10958.99it/s]"
          ],
          "name": "stderr"
        },
        {
          "output_type": "stream",
          "text": [
            "\n",
            "Iteration: 40 Loss: 94282550.80071008 Difference: 13.757484398738297\n"
          ],
          "name": "stdout"
        },
        {
          "output_type": "stream",
          "text": [
            "60000it [00:05, 11008.04it/s]\n",
            "1120it [00:00, 11192.43it/s]"
          ],
          "name": "stderr"
        },
        {
          "output_type": "stream",
          "text": [
            "\n",
            "Iteration: 41 Loss: 94281196.55217668 Difference: 12.49839613118864\n"
          ],
          "name": "stdout"
        },
        {
          "output_type": "stream",
          "text": [
            "60000it [00:05, 11030.93it/s]\n",
            "1117it [00:00, 11164.42it/s]"
          ],
          "name": "stderr"
        },
        {
          "output_type": "stream",
          "text": [
            "\n",
            "Iteration: 42 Loss: 94280617.22251979 Difference: 11.653536879528838\n"
          ],
          "name": "stdout"
        },
        {
          "output_type": "stream",
          "text": [
            "60000it [00:05, 10987.93it/s]\n",
            "1117it [00:00, 11169.90it/s]"
          ],
          "name": "stderr"
        },
        {
          "output_type": "stream",
          "text": [
            "\n",
            "Iteration: 43 Loss: 94280174.95357834 Difference: 11.02485625330381\n"
          ],
          "name": "stdout"
        },
        {
          "output_type": "stream",
          "text": [
            "60000it [00:05, 11003.54it/s]\n",
            "1116it [00:00, 11154.21it/s]"
          ],
          "name": "stderr"
        },
        {
          "output_type": "stream",
          "text": [
            "\n",
            "Iteration: 44 Loss: 94279790.33040453 Difference: 8.448573712060927\n"
          ],
          "name": "stdout"
        },
        {
          "output_type": "stream",
          "text": [
            "60000it [00:05, 11017.88it/s]\n",
            "1099it [00:00, 10983.15it/s]"
          ],
          "name": "stderr"
        },
        {
          "output_type": "stream",
          "text": [
            "\n",
            "Iteration: 45 Loss: 94279601.5430798 Difference: 8.20426005860769\n"
          ],
          "name": "stdout"
        },
        {
          "output_type": "stream",
          "text": [
            "60000it [00:05, 10468.38it/s]\n",
            "1040it [00:00, 10399.14it/s]"
          ],
          "name": "stderr"
        },
        {
          "output_type": "stream",
          "text": [
            "\n",
            "Iteration: 46 Loss: 94279344.20226353 Difference: 7.373269912320531\n"
          ],
          "name": "stdout"
        },
        {
          "output_type": "stream",
          "text": [
            "60000it [00:05, 10317.90it/s]\n",
            "1084it [00:00, 10833.66it/s]"
          ],
          "name": "stderr"
        },
        {
          "output_type": "stream",
          "text": [
            "\n",
            "Iteration: 47 Loss: 94279285.39284354 Difference: 9.01299202615193\n"
          ],
          "name": "stdout"
        },
        {
          "output_type": "stream",
          "text": [
            "60000it [00:05, 11004.07it/s]\n",
            "1114it [00:00, 11135.82it/s]"
          ],
          "name": "stderr"
        },
        {
          "output_type": "stream",
          "text": [
            "\n",
            "Iteration: 48 Loss: 94279145.56908272 Difference: 8.43878483667088\n"
          ],
          "name": "stdout"
        },
        {
          "output_type": "stream",
          "text": [
            "60000it [00:05, 11072.39it/s]\n",
            "1118it [00:00, 11174.04it/s]"
          ],
          "name": "stderr"
        },
        {
          "output_type": "stream",
          "text": [
            "\n",
            "Iteration: 49 Loss: 94279080.10359862 Difference: 8.945212876647556\n"
          ],
          "name": "stdout"
        },
        {
          "output_type": "stream",
          "text": [
            "60000it [00:05, 11051.97it/s]\n",
            "1120it [00:00, 11199.90it/s]"
          ],
          "name": "stderr"
        },
        {
          "output_type": "stream",
          "text": [
            "\n",
            "Iteration: 50 Loss: 94278954.34480327 Difference: 8.301026084725892\n"
          ],
          "name": "stdout"
        },
        {
          "output_type": "stream",
          "text": [
            "60000it [00:05, 11090.00it/s]\n",
            "1115it [00:00, 11143.55it/s]"
          ],
          "name": "stderr"
        },
        {
          "output_type": "stream",
          "text": [
            "\n",
            "Iteration: 51 Loss: 94278847.25255424 Difference: 8.697499794009433\n"
          ],
          "name": "stdout"
        },
        {
          "output_type": "stream",
          "text": [
            "60000it [00:05, 11097.04it/s]\n",
            "1114it [00:00, 11139.05it/s]"
          ],
          "name": "stderr"
        },
        {
          "output_type": "stream",
          "text": [
            "\n",
            "Iteration: 52 Loss: 94278739.17646511 Difference: 9.571624344670768\n"
          ],
          "name": "stdout"
        },
        {
          "output_type": "stream",
          "text": [
            "60000it [00:05, 11072.85it/s]\n",
            "1124it [00:00, 11232.89it/s]"
          ],
          "name": "stderr"
        },
        {
          "output_type": "stream",
          "text": [
            "\n",
            "Iteration: 53 Loss: 94278848.98395748 Difference: 8.36008733175015\n"
          ],
          "name": "stdout"
        },
        {
          "output_type": "stream",
          "text": [
            "60000it [00:05, 11123.35it/s]\n",
            "1119it [00:00, 11181.03it/s]"
          ],
          "name": "stderr"
        },
        {
          "output_type": "stream",
          "text": [
            "\n",
            "Iteration: 54 Loss: 94278791.96273796 Difference: 8.61864294430037\n"
          ],
          "name": "stdout"
        },
        {
          "output_type": "stream",
          "text": [
            "60000it [00:05, 11049.06it/s]\n",
            "1093it [00:00, 10926.39it/s]"
          ],
          "name": "stderr"
        },
        {
          "output_type": "stream",
          "text": [
            "\n",
            "Iteration: 55 Loss: 94279046.06951149 Difference: 8.040043655505892\n"
          ],
          "name": "stdout"
        },
        {
          "output_type": "stream",
          "text": [
            "60000it [00:05, 11035.44it/s]\n",
            "1108it [00:00, 11073.81it/s]"
          ],
          "name": "stderr"
        },
        {
          "output_type": "stream",
          "text": [
            "\n",
            "Iteration: 56 Loss: 94279096.20518488 Difference: 8.324795529574912\n"
          ],
          "name": "stdout"
        },
        {
          "output_type": "stream",
          "text": [
            "60000it [00:05, 11137.80it/s]\n",
            "1113it [00:00, 11122.61it/s]"
          ],
          "name": "stderr"
        },
        {
          "output_type": "stream",
          "text": [
            "\n",
            "Iteration: 57 Loss: 94279007.82317802 Difference: 8.94533532818547\n"
          ],
          "name": "stdout"
        },
        {
          "output_type": "stream",
          "text": [
            "60000it [00:05, 11051.83it/s]\n",
            "1114it [00:00, 11137.67it/s]"
          ],
          "name": "stderr"
        },
        {
          "output_type": "stream",
          "text": [
            "\n",
            "Iteration: 58 Loss: 94278774.36032988 Difference: 8.037403317030758\n"
          ],
          "name": "stdout"
        },
        {
          "output_type": "stream",
          "text": [
            "60000it [00:05, 11068.76it/s]\n",
            "1113it [00:00, 11121.37it/s]"
          ],
          "name": "stderr"
        },
        {
          "output_type": "stream",
          "text": [
            "\n",
            "Iteration: 59 Loss: 94278369.16558263 Difference: 7.530388202580097\n"
          ],
          "name": "stdout"
        },
        {
          "output_type": "stream",
          "text": [
            "60000it [00:05, 11082.12it/s]\n",
            "1106it [00:00, 11057.66it/s]"
          ],
          "name": "stderr"
        },
        {
          "output_type": "stream",
          "text": [
            "\n",
            "Iteration: 60 Loss: 94278053.9971676 Difference: 7.93529867125045\n"
          ],
          "name": "stdout"
        },
        {
          "output_type": "stream",
          "text": [
            "60000it [00:05, 10966.44it/s]\n",
            "1099it [00:00, 10988.99it/s]"
          ],
          "name": "stderr"
        },
        {
          "output_type": "stream",
          "text": [
            "\n",
            "Iteration: 61 Loss: 94278124.86611049 Difference: 7.669274275460933\n"
          ],
          "name": "stdout"
        },
        {
          "output_type": "stream",
          "text": [
            "60000it [00:05, 10866.62it/s]\n",
            "1107it [00:00, 11064.47it/s]"
          ],
          "name": "stderr"
        },
        {
          "output_type": "stream",
          "text": [
            "\n",
            "Iteration: 62 Loss: 94278117.36701474 Difference: 8.046802010757368\n"
          ],
          "name": "stdout"
        },
        {
          "output_type": "stream",
          "text": [
            "60000it [00:05, 11027.69it/s]\n",
            "1106it [00:00, 11053.66it/s]"
          ],
          "name": "stderr"
        },
        {
          "output_type": "stream",
          "text": [
            "\n",
            "Iteration: 63 Loss: 94277984.29483612 Difference: 8.292615051981292\n"
          ],
          "name": "stdout"
        },
        {
          "output_type": "stream",
          "text": [
            "60000it [00:05, 11082.25it/s]\n",
            "1108it [00:00, 11074.81it/s]"
          ],
          "name": "stderr"
        },
        {
          "output_type": "stream",
          "text": [
            "\n",
            "Iteration: 64 Loss: 94277732.62781921 Difference: 8.750274385693666\n"
          ],
          "name": "stdout"
        },
        {
          "output_type": "stream",
          "text": [
            "60000it [00:05, 11036.10it/s]\n",
            "1110it [00:00, 11093.21it/s]"
          ],
          "name": "stderr"
        },
        {
          "output_type": "stream",
          "text": [
            "\n",
            "Iteration: 65 Loss: 94277374.54400592 Difference: 10.434341673432092\n"
          ],
          "name": "stdout"
        },
        {
          "output_type": "stream",
          "text": [
            "60000it [00:05, 11038.47it/s]\n",
            "1121it [00:00, 11203.09it/s]"
          ],
          "name": "stderr"
        },
        {
          "output_type": "stream",
          "text": [
            "\n",
            "Iteration: 66 Loss: 94277249.05608213 Difference: 11.526452679106415\n"
          ],
          "name": "stdout"
        },
        {
          "output_type": "stream",
          "text": [
            "60000it [00:05, 11062.15it/s]\n",
            "1121it [00:00, 11205.52it/s]"
          ],
          "name": "stderr"
        },
        {
          "output_type": "stream",
          "text": [
            "\n",
            "Iteration: 67 Loss: 94277010.86788796 Difference: 14.298527027278714\n"
          ],
          "name": "stdout"
        },
        {
          "output_type": "stream",
          "text": [
            "60000it [00:05, 11035.53it/s]\n",
            "1120it [00:00, 11196.41it/s]"
          ],
          "name": "stderr"
        },
        {
          "output_type": "stream",
          "text": [
            "\n",
            "Iteration: 68 Loss: 94276633.69014475 Difference: 13.888847502857098\n"
          ],
          "name": "stdout"
        },
        {
          "output_type": "stream",
          "text": [
            "60000it [00:05, 11052.04it/s]\n",
            "1088it [00:00, 10873.81it/s]"
          ],
          "name": "stderr"
        },
        {
          "output_type": "stream",
          "text": [
            "\n",
            "Iteration: 69 Loss: 94276232.70395797 Difference: 14.471555063461164\n"
          ],
          "name": "stdout"
        },
        {
          "output_type": "stream",
          "text": [
            "60000it [00:05, 11049.24it/s]\n",
            "1123it [00:00, 11224.28it/s]"
          ],
          "name": "stderr"
        },
        {
          "output_type": "stream",
          "text": [
            "\n",
            "Iteration: 70 Loss: 94275517.50448443 Difference: 16.80353139259878\n"
          ],
          "name": "stdout"
        },
        {
          "output_type": "stream",
          "text": [
            "60000it [00:05, 11106.76it/s]\n",
            "1116it [00:00, 11153.07it/s]"
          ],
          "name": "stderr"
        },
        {
          "output_type": "stream",
          "text": [
            "\n",
            "Iteration: 71 Loss: 94274870.34503068 Difference: 15.32756042290302\n"
          ],
          "name": "stdout"
        },
        {
          "output_type": "stream",
          "text": [
            "60000it [00:05, 11011.74it/s]\n",
            "1117it [00:00, 11164.42it/s]"
          ],
          "name": "stderr"
        },
        {
          "output_type": "stream",
          "text": [
            "\n",
            "Iteration: 72 Loss: 94274344.83782113 Difference: 13.335639778091165\n"
          ],
          "name": "stdout"
        },
        {
          "output_type": "stream",
          "text": [
            "60000it [00:05, 11085.34it/s]\n",
            "1122it [00:00, 11212.61it/s]"
          ],
          "name": "stderr"
        },
        {
          "output_type": "stream",
          "text": [
            "\n",
            "Iteration: 73 Loss: 94274150.4270212 Difference: 10.816289542687938\n"
          ],
          "name": "stdout"
        },
        {
          "output_type": "stream",
          "text": [
            "60000it [00:05, 11043.85it/s]\n",
            "1105it [00:00, 11048.59it/s]"
          ],
          "name": "stderr"
        },
        {
          "output_type": "stream",
          "text": [
            "\n",
            "Iteration: 74 Loss: 94274232.88863409 Difference: 7.438002466895895\n"
          ],
          "name": "stdout"
        },
        {
          "output_type": "stream",
          "text": [
            "60000it [00:05, 11092.27it/s]\n",
            "1114it [00:00, 11137.97it/s]"
          ],
          "name": "stderr"
        },
        {
          "output_type": "stream",
          "text": [
            "\n",
            "Iteration: 75 Loss: 94274239.27572474 Difference: 7.354796357335644\n"
          ],
          "name": "stdout"
        },
        {
          "output_type": "stream",
          "text": [
            "60000it [00:05, 11043.80it/s]\n",
            "1120it [00:00, 11198.41it/s]"
          ],
          "name": "stderr"
        },
        {
          "output_type": "stream",
          "text": [
            "\n",
            "Iteration: 76 Loss: 94274262.17179258 Difference: 9.99984719106914\n"
          ],
          "name": "stdout"
        },
        {
          "output_type": "stream",
          "text": [
            "60000it [00:05, 11030.44it/s]\n",
            "1112it [00:00, 11114.13it/s]"
          ],
          "name": "stderr"
        },
        {
          "output_type": "stream",
          "text": [
            "\n",
            "Iteration: 77 Loss: 94274294.828671 Difference: 10.852331089787231\n"
          ],
          "name": "stdout"
        },
        {
          "output_type": "stream",
          "text": [
            "60000it [00:05, 11018.97it/s]\n",
            "1081it [00:00, 10808.70it/s]"
          ],
          "name": "stderr"
        },
        {
          "output_type": "stream",
          "text": [
            "\n",
            "Iteration: 78 Loss: 94274145.1683192 Difference: 10.53667481797051\n"
          ],
          "name": "stdout"
        },
        {
          "output_type": "stream",
          "text": [
            "60000it [00:05, 10763.14it/s]\n",
            "1095it [00:00, 10941.56it/s]"
          ],
          "name": "stderr"
        },
        {
          "output_type": "stream",
          "text": [
            "\n",
            "Iteration: 79 Loss: 94273695.42151642 Difference: 10.763054329118173\n"
          ],
          "name": "stdout"
        },
        {
          "output_type": "stream",
          "text": [
            "60000it [00:05, 11046.34it/s]\n",
            "1089it [00:00, 10889.28it/s]"
          ],
          "name": "stderr"
        },
        {
          "output_type": "stream",
          "text": [
            "\n",
            "Iteration: 80 Loss: 94273239.19666258 Difference: 10.779352103507648\n"
          ],
          "name": "stdout"
        },
        {
          "output_type": "stream",
          "text": [
            "60000it [00:05, 11031.92it/s]\n",
            "1095it [00:00, 10946.96it/s]"
          ],
          "name": "stderr"
        },
        {
          "output_type": "stream",
          "text": [
            "\n",
            "Iteration: 81 Loss: 94272690.3387919 Difference: 9.351327240039026\n"
          ],
          "name": "stdout"
        },
        {
          "output_type": "stream",
          "text": [
            "60000it [00:05, 11054.59it/s]\n",
            "1112it [00:00, 11114.68it/s]"
          ],
          "name": "stderr"
        },
        {
          "output_type": "stream",
          "text": [
            "\n",
            "Iteration: 82 Loss: 94272221.18872613 Difference: 10.568283923067385\n"
          ],
          "name": "stdout"
        },
        {
          "output_type": "stream",
          "text": [
            "60000it [00:05, 11057.62it/s]\n",
            "1116it [00:00, 11159.90it/s]"
          ],
          "name": "stderr"
        },
        {
          "output_type": "stream",
          "text": [
            "\n",
            "Iteration: 83 Loss: 94271763.88890031 Difference: 8.935492606614103\n"
          ],
          "name": "stdout"
        },
        {
          "output_type": "stream",
          "text": [
            "60000it [00:05, 11092.94it/s]\n",
            "1123it [00:00, 11221.66it/s]"
          ],
          "name": "stderr"
        },
        {
          "output_type": "stream",
          "text": [
            "\n",
            "Iteration: 84 Loss: 94271188.80287847 Difference: 8.931746793162848\n"
          ],
          "name": "stdout"
        },
        {
          "output_type": "stream",
          "text": [
            "60000it [00:05, 11114.62it/s]\n",
            "1118it [00:00, 11179.56it/s]"
          ],
          "name": "stderr"
        },
        {
          "output_type": "stream",
          "text": [
            "\n",
            "Iteration: 85 Loss: 94270914.4358022 Difference: 10.481019306230335\n"
          ],
          "name": "stdout"
        },
        {
          "output_type": "stream",
          "text": [
            "60000it [00:05, 11116.81it/s]\n",
            "1114it [00:00, 11133.72it/s]"
          ],
          "name": "stderr"
        },
        {
          "output_type": "stream",
          "text": [
            "\n",
            "Iteration: 86 Loss: 94270807.6968257 Difference: 9.599609954281066\n"
          ],
          "name": "stdout"
        },
        {
          "output_type": "stream",
          "text": [
            "60000it [00:05, 11055.15it/s]\n",
            "1115it [00:00, 11140.85it/s]"
          ],
          "name": "stderr"
        },
        {
          "output_type": "stream",
          "text": [
            "\n",
            "Iteration: 87 Loss: 94270763.74953522 Difference: 8.565312919502672\n"
          ],
          "name": "stdout"
        },
        {
          "output_type": "stream",
          "text": [
            "60000it [00:05, 11077.17it/s]\n",
            "1112it [00:00, 11113.15it/s]"
          ],
          "name": "stderr"
        },
        {
          "output_type": "stream",
          "text": [
            "\n",
            "Iteration: 88 Loss: 94270464.58319029 Difference: 9.152810602385443\n"
          ],
          "name": "stdout"
        },
        {
          "output_type": "stream",
          "text": [
            "60000it [00:05, 11151.15it/s]\n",
            "1113it [00:00, 11128.13it/s]"
          ],
          "name": "stderr"
        },
        {
          "output_type": "stream",
          "text": [
            "\n",
            "Iteration: 89 Loss: 94270154.6742078 Difference: 10.751356872499311\n"
          ],
          "name": "stdout"
        },
        {
          "output_type": "stream",
          "text": [
            "60000it [00:05, 11091.51it/s]\n",
            "1125it [00:00, 11248.27it/s]"
          ],
          "name": "stderr"
        },
        {
          "output_type": "stream",
          "text": [
            "\n",
            "Iteration: 90 Loss: 94269838.21242917 Difference: 9.10670618880891\n"
          ],
          "name": "stdout"
        },
        {
          "output_type": "stream",
          "text": [
            "60000it [00:05, 11072.28it/s]\n",
            "1106it [00:00, 11057.32it/s]"
          ],
          "name": "stderr"
        },
        {
          "output_type": "stream",
          "text": [
            "\n",
            "Iteration: 91 Loss: 94269717.14074352 Difference: 7.821080272135044\n"
          ],
          "name": "stdout"
        },
        {
          "output_type": "stream",
          "text": [
            "60000it [00:05, 11093.99it/s]\n",
            "1113it [00:00, 11125.53it/s]"
          ],
          "name": "stderr"
        },
        {
          "output_type": "stream",
          "text": [
            "\n",
            "Iteration: 92 Loss: 94269577.4000404 Difference: 5.260208525691389\n"
          ],
          "name": "stdout"
        },
        {
          "output_type": "stream",
          "text": [
            "60000it [00:05, 11027.15it/s]\n",
            "1117it [00:00, 11169.98it/s]"
          ],
          "name": "stderr"
        },
        {
          "output_type": "stream",
          "text": [
            "\n",
            "Iteration: 93 Loss: 94269367.24587831 Difference: 4.927459903665456\n"
          ],
          "name": "stdout"
        },
        {
          "output_type": "stream",
          "text": [
            "60000it [00:05, 11096.02it/s]\n",
            "1118it [00:00, 11173.19it/s]"
          ],
          "name": "stderr"
        },
        {
          "output_type": "stream",
          "text": [
            "\n",
            "Iteration: 94 Loss: 94269126.41033393 Difference: 5.982540562164493\n"
          ],
          "name": "stdout"
        },
        {
          "output_type": "stream",
          "text": [
            "60000it [00:05, 10467.60it/s]\n",
            "1057it [00:00, 10561.62it/s]"
          ],
          "name": "stderr"
        },
        {
          "output_type": "stream",
          "text": [
            "\n",
            "Iteration: 95 Loss: 94268641.18928595 Difference: 6.508490077486496\n"
          ],
          "name": "stdout"
        },
        {
          "output_type": "stream",
          "text": [
            "60000it [00:05, 10516.41it/s]\n",
            "1116it [00:00, 11155.20it/s]"
          ],
          "name": "stderr"
        },
        {
          "output_type": "stream",
          "text": [
            "\n",
            "Iteration: 96 Loss: 94268351.42602691 Difference: 9.084629361144554\n"
          ],
          "name": "stdout"
        },
        {
          "output_type": "stream",
          "text": [
            "60000it [00:05, 11083.91it/s]\n",
            "1121it [00:00, 11205.20it/s]"
          ],
          "name": "stderr"
        },
        {
          "output_type": "stream",
          "text": [
            "\n",
            "Iteration: 97 Loss: 94268296.06728083 Difference: 5.913999462602456\n"
          ],
          "name": "stdout"
        },
        {
          "output_type": "stream",
          "text": [
            "60000it [00:05, 11126.45it/s]\n",
            "1124it [00:00, 11232.81it/s]"
          ],
          "name": "stderr"
        },
        {
          "output_type": "stream",
          "text": [
            "\n",
            "Iteration: 98 Loss: 94268203.14139237 Difference: 4.54412561474124\n"
          ],
          "name": "stdout"
        },
        {
          "output_type": "stream",
          "text": [
            "60000it [00:05, 11140.59it/s]\n",
            "1118it [00:00, 11179.96it/s]"
          ],
          "name": "stderr"
        },
        {
          "output_type": "stream",
          "text": [
            "\n",
            "Iteration: 99 Loss: 94268075.52484502 Difference: 3.605483242701263\n"
          ],
          "name": "stdout"
        },
        {
          "output_type": "stream",
          "text": [
            "60000it [00:05, 11029.23it/s]\n",
            "1116it [00:00, 11156.93it/s]"
          ],
          "name": "stderr"
        },
        {
          "output_type": "stream",
          "text": [
            "\n",
            "Iteration: 100 Loss: 94267947.99229069 Difference: 3.3836459817058224\n"
          ],
          "name": "stdout"
        },
        {
          "output_type": "stream",
          "text": [
            "60000it [00:05, 11021.59it/s]\n",
            "1108it [00:00, 11075.10it/s]"
          ],
          "name": "stderr"
        },
        {
          "output_type": "stream",
          "text": [
            "\n",
            "Iteration: 101 Loss: 94267792.79612906 Difference: 3.013817859851001\n"
          ],
          "name": "stdout"
        },
        {
          "output_type": "stream",
          "text": [
            "60000it [00:05, 11038.82it/s]\n",
            "1113it [00:00, 11122.32it/s]"
          ],
          "name": "stderr"
        },
        {
          "output_type": "stream",
          "text": [
            "\n",
            "Iteration: 102 Loss: 94267696.24330257 Difference: 3.4821615713729432\n"
          ],
          "name": "stdout"
        },
        {
          "output_type": "stream",
          "text": [
            "60000it [00:05, 11084.52it/s]\n",
            "1097it [00:00, 10963.32it/s]"
          ],
          "name": "stderr"
        },
        {
          "output_type": "stream",
          "text": [
            "\n",
            "Iteration: 103 Loss: 94267665.03671712 Difference: 2.804588726360063\n"
          ],
          "name": "stdout"
        },
        {
          "output_type": "stream",
          "text": [
            "60000it [00:05, 11074.60it/s]\n",
            "1114it [00:00, 11139.77it/s]"
          ],
          "name": "stderr"
        },
        {
          "output_type": "stream",
          "text": [
            "\n",
            "Iteration: 104 Loss: 94267703.40294471 Difference: 1.8568159088029528\n"
          ],
          "name": "stdout"
        },
        {
          "output_type": "stream",
          "text": [
            "60000it [00:05, 11020.22it/s]\n",
            "1116it [00:00, 11158.84it/s]"
          ],
          "name": "stderr"
        },
        {
          "output_type": "stream",
          "text": [
            "\n",
            "Iteration: 105 Loss: 94267700.86358619 Difference: 1.922398416428355\n"
          ],
          "name": "stdout"
        },
        {
          "output_type": "stream",
          "text": [
            "60000it [00:05, 11054.35it/s]\n",
            "1126it [00:00, 11257.38it/s]"
          ],
          "name": "stderr"
        },
        {
          "output_type": "stream",
          "text": [
            "\n",
            "Iteration: 106 Loss: 94267714.58260916 Difference: 0.5899731355963285\n"
          ],
          "name": "stdout"
        },
        {
          "output_type": "stream",
          "text": [
            "60000it [00:05, 11032.62it/s]\n",
            "1117it [00:00, 11166.28it/s]"
          ],
          "name": "stderr"
        },
        {
          "output_type": "stream",
          "text": [
            "\n",
            "Iteration: 107 Loss: 94267714.5839231 Difference: 0.4869968841150618\n"
          ],
          "name": "stdout"
        },
        {
          "output_type": "stream",
          "text": [
            "60000it [00:05, 11055.12it/s]\n",
            "1113it [00:00, 11129.96it/s]"
          ],
          "name": "stderr"
        },
        {
          "output_type": "stream",
          "text": [
            "\n",
            "Iteration: 108 Loss: 94267714.58392337 Difference: 6.86417291952777e-05\n"
          ],
          "name": "stdout"
        },
        {
          "output_type": "stream",
          "text": [
            "60000it [00:05, 11062.44it/s]\n"
          ],
          "name": "stderr"
        },
        {
          "output_type": "stream",
          "text": [
            "\n",
            "Iteration: 109 Loss: 94267714.58392337 Difference: 9.995781960205385e-09\n",
            "Converged! With distance: 1.5321384093958334e-12\n",
            "[cluster_label,no_occurence_of_label,total_samples_in_cluster,cluster_accuracy] [[0, 2811, 3098, 0.907359586830213], [6, 4914, 5716, 0.8596920923722883], [8, 3463, 6514, 0.5316241940435984], [1, 3718, 5971, 0.62267626863172], [4, 3188, 8931, 0.35695890717724776], [7, 3773, 8848, 0.4264240506329114], [3, 3924, 7432, 0.5279870828848224], [1, 2977, 5611, 0.5305649616824095], [0, 2498, 3198, 0.7811131957473421], [2, 4194, 4681, 0.8959624011963255]]\n",
            "Accuracy: 0.6440362741198878\n"
          ],
          "name": "stdout"
        }
      ]
    },
    {
      "metadata": {
        "id": "S1mucwoJgMl7",
        "colab_type": "code",
        "colab": {
          "base_uri": "https://localhost:8080/",
          "height": 247
        },
        "outputId": "02f961f0-9563-4a9b-b645-04c99c2d394c"
      },
      "cell_type": "code",
      "source": [
        "data_reader.plot_imgs(kmeans.centroids,len(kmeans.centroids))"
      ],
      "execution_count": 13,
      "outputs": [
        {
          "output_type": "display_data",
          "data": {
            "image/png": "[encoded data removed]",
            "text/plain": [
              "<matplotlib.figure.Figure at 0x7f8f8a948588>"
            ]
          },
          "metadata": {
            "tags": []
          }
        }
      ]
    },
    {
      "metadata": {
        "id": "tiTMKquTgNwA",
        "colab_type": "code",
        "colab": {
          "base_uri": "https://localhost:8080/",
          "height": 375
        },
        "outputId": "03b4754f-a886-4bab-84d3-0c7e33cc7041"
      },
      "cell_type": "code",
      "source": [
        "print('Loss')\n",
        "plt.plot(range(kmeans.iterations),kmeans.loss_per_iteration)\n",
        "plt.show()"
      ],
      "execution_count": 14,
      "outputs": [
        {
          "output_type": "stream",
          "text": [
            "Loss\n"
          ],
          "name": "stdout"
        },
        {
          "output_type": "display_data",
          "data": {
            "image/png": "[encoded data removed]",
            "text/plain": [
              "<matplotlib.figure.Figure at 0x7f8f876070f0>"
            ]
          },
          "metadata": {
            "tags": []
          }
        }
      ]
    },
    {
      "metadata": {
        "id": "HUyFkUtCgUoR",
        "colab_type": "code",
        "colab": {
          "base_uri": "https://localhost:8080/",
          "height": 3247
        },
        "outputId": "ed1843c8-65c0-4905-943e-600b6dfd2d6e"
      },
      "cell_type": "code",
      "source": [
        "for key,data in list(kmeans.clusters['data'].items()):\n",
        "    print('Cluster:',key,'Label:',kmeans.clusters_labels[key])\n",
        "    data_reader.plot_imgs(data[:min(25,data.shape[0])],min(25,data.shape[0]))"
      ],
      "execution_count": 15,
      "outputs": [
        {
          "output_type": "stream",
          "text": [
            "Cluster: 0 Label: 0\n"
          ],
          "name": "stdout"
        },
        {
          "output_type": "display_data",
          "data": {
            "image/png": "[encoded data removed]",
            "text/plain": [
              "<matplotlib.figure.Figure at 0x7f8f87eea2b0>"
            ]
          },
          "metadata": {
            "tags": []
          }
        },
        {
          "output_type": "stream",
          "text": [
            "Cluster: 1 Label: 6\n"
          ],
          "name": "stdout"
        },
        {
          "output_type": "display_data",
          "data": {
            "image/png": "[encoded data removed]",
            "text/plain": [
              "<matplotlib.figure.Figure at 0x7f8f87607588>"
            ]
          },
          "metadata": {
            "tags": []
          }
        },
        {
          "output_type": "stream",
          "text": [
            "Cluster: 2 Label: 8\n"
          ],
          "name": "stdout"
        },
        {
          "output_type": "display_data",
          "data": {
            "image/png": "[encoded data removed]",
            "text/plain": [
              "<matplotlib.figure.Figure at 0x7f8f86ee8cc0>"
            ]
          },
          "metadata": {
            "tags": []
          }
        },
        {
          "output_type": "stream",
          "text": [
            "Cluster: 3 Label: 1\n"
          ],
          "name": "stdout"
        },
        {
          "output_type": "display_data",
          "data": {
            "image/png": "[encoded data removed]",
            "text/plain": [
              "<matplotlib.figure.Figure at 0x7f8f8707ce10>"
            ]
          },
          "metadata": {
            "tags": []
          }
        },
        {
          "output_type": "stream",
          "text": [
            "Cluster: 4 Label: 4\n"
          ],
          "name": "stdout"
        },
        {
          "output_type": "display_data",
          "data": {
            "image/png": "[encoded data removed]",
            "text/plain": [
              "<matplotlib.figure.Figure at 0x7f8f8ac6a320>"
            ]
          },
          "metadata": {
            "tags": []
          }
        },
        {
          "output_type": "stream",
          "text": [
            "Cluster: 5 Label: 7\n"
          ],
          "name": "stdout"
        },
        {
          "output_type": "display_data",
          "data": {
            "image/png": "[encoded data removed]",
            "text/plain": [
              "<matplotlib.figure.Figure at 0x7f8f86d27240>"
            ]
          },
          "metadata": {
            "tags": []
          }
        },
        {
          "output_type": "stream",
          "text": [
            "Cluster: 6 Label: 3\n"
          ],
          "name": "stdout"
        },
        {
          "output_type": "display_data",
          "data": {
            "image/png": "[encoded data removed]",
            "text/plain": [
              "<matplotlib.figure.Figure at 0x7f8f876454e0>"
            ]
          },
          "metadata": {
            "tags": []
          }
        },
        {
          "output_type": "stream",
          "text": [
            "Cluster: 7 Label: 1\n"
          ],
          "name": "stdout"
        },
        {
          "output_type": "display_data",
          "data": {
            "image/png": "[encoded data removed]",
            "text/plain": [
              "<matplotlib.figure.Figure at 0x7f8f86cdca20>"
            ]
          },
          "metadata": {
            "tags": []
          }
        },
        {
          "output_type": "stream",
          "text": [
            "Cluster: 8 Label: 0\n"
          ],
          "name": "stdout"
        },
        {
          "output_type": "display_data",
          "data": {
            "image/png": "[encoded data removed]",
            "text/plain": [
              "<matplotlib.figure.Figure at 0x7f8f871e1358>"
            ]
          },
          "metadata": {
            "tags": []
          }
        },
        {
          "output_type": "stream",
          "text": [
            "Cluster: 9 Label: 2\n"
          ],
          "name": "stdout"
        },
        {
          "output_type": "display_data",
          "data": {
            "image/png": "[encoded data removed]",
            "text/plain": [
              "<matplotlib.figure.Figure at 0x7f8f875657f0>"
            ]
          },
          "metadata": {
            "tags": []
          }
        }
      ]
    },
    {
      "metadata": {
        "id": "A15G-mXTgXva",
        "colab_type": "code",
        "colab": {
          "base_uri": "https://localhost:8080/",
          "height": 88
        },
        "outputId": "3e93423e-4f36-4075-f9cc-6628e3f29771"
      },
      "cell_type": "code",
      "source": [
        "print('[cluster_label,no_occurrence_of_label,total_samples_in_cluster,cluster_accuracy]\\n',kmeans.clusters_info)\n",
        "print('Accuracy:',kmeans.accuracy)"
      ],
      "execution_count": 16,
      "outputs": [
        {
          "output_type": "stream",
          "text": [
            "[cluster_label,no_occurrence_of_label,total_samples_in_cluster,cluster_accuracy]\n",
            " [[0, 2811, 3098, 0.907359586830213], [6, 4914, 5716, 0.8596920923722883], [8, 3463, 6514, 0.5316241940435984], [1, 3718, 5971, 0.62267626863172], [4, 3188, 8931, 0.35695890717724776], [7, 3773, 8848, 0.4264240506329114], [3, 3924, 7432, 0.5279870828848224], [1, 2977, 5611, 0.5305649616824095], [0, 2498, 3198, 0.7811131957473421], [2, 4194, 4681, 0.8959624011963255]]\n",
            "Accuracy: 0.6440362741198878\n"
          ],
          "name": "stdout"
        }
      ]
    }
  ]
}